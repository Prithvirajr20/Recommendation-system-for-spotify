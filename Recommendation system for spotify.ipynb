{
 "cells": [
  {
   "cell_type": "markdown",
   "id": "9824110e",
   "metadata": {},
   "source": [
    "## Music Recommendation System for Spotify"
   ]
  },
  {
   "cell_type": "code",
   "execution_count": 1,
   "id": "c2fd0e84",
   "metadata": {},
   "outputs": [],
   "source": [
    "#lets import the required packages\n",
    "\n",
    "import pandas as pd\n",
    "import seaborn as sns\n",
    "import nltk\n",
    "from nltk.stem.porter import PorterStemmer\n",
    "stemmer = PorterStemmer()\n",
    "import pickle\n"
   ]
  },
  {
   "cell_type": "code",
   "execution_count": 2,
   "id": "5d47a18d",
   "metadata": {},
   "outputs": [],
   "source": [
    "#load the data set\n",
    "\n",
    "df = pd.read_csv(r\"E:\\DOWNLOADS\\GOD\\Spotify music recommendations\\spotify_millsongdata.csv\")"
   ]
  },
  {
   "cell_type": "code",
   "execution_count": 3,
   "id": "4e8e739a",
   "metadata": {},
   "outputs": [
    {
     "data": {
      "text/html": [
       "<div>\n",
       "<style scoped>\n",
       "    .dataframe tbody tr th:only-of-type {\n",
       "        vertical-align: middle;\n",
       "    }\n",
       "\n",
       "    .dataframe tbody tr th {\n",
       "        vertical-align: top;\n",
       "    }\n",
       "\n",
       "    .dataframe thead th {\n",
       "        text-align: right;\n",
       "    }\n",
       "</style>\n",
       "<table border=\"1\" class=\"dataframe\">\n",
       "  <thead>\n",
       "    <tr style=\"text-align: right;\">\n",
       "      <th></th>\n",
       "      <th>artist</th>\n",
       "      <th>song</th>\n",
       "      <th>link</th>\n",
       "      <th>text</th>\n",
       "    </tr>\n",
       "  </thead>\n",
       "  <tbody>\n",
       "    <tr>\n",
       "      <th>0</th>\n",
       "      <td>ABBA</td>\n",
       "      <td>Ahe's My Kind Of Girl</td>\n",
       "      <td>/a/abba/ahes+my+kind+of+girl_20598417.html</td>\n",
       "      <td>Look at her face, it's a wonderful face  \\r\\nA...</td>\n",
       "    </tr>\n",
       "    <tr>\n",
       "      <th>1</th>\n",
       "      <td>ABBA</td>\n",
       "      <td>Andante, Andante</td>\n",
       "      <td>/a/abba/andante+andante_20002708.html</td>\n",
       "      <td>Take it easy with me, please  \\r\\nTouch me gen...</td>\n",
       "    </tr>\n",
       "    <tr>\n",
       "      <th>2</th>\n",
       "      <td>ABBA</td>\n",
       "      <td>As Good As New</td>\n",
       "      <td>/a/abba/as+good+as+new_20003033.html</td>\n",
       "      <td>I'll never know why I had to go  \\r\\nWhy I had...</td>\n",
       "    </tr>\n",
       "    <tr>\n",
       "      <th>3</th>\n",
       "      <td>ABBA</td>\n",
       "      <td>Bang</td>\n",
       "      <td>/a/abba/bang_20598415.html</td>\n",
       "      <td>Making somebody happy is a question of give an...</td>\n",
       "    </tr>\n",
       "    <tr>\n",
       "      <th>4</th>\n",
       "      <td>ABBA</td>\n",
       "      <td>Bang-A-Boomerang</td>\n",
       "      <td>/a/abba/bang+a+boomerang_20002668.html</td>\n",
       "      <td>Making somebody happy is a question of give an...</td>\n",
       "    </tr>\n",
       "  </tbody>\n",
       "</table>\n",
       "</div>"
      ],
      "text/plain": [
       "  artist                   song                                        link  \\\n",
       "0   ABBA  Ahe's My Kind Of Girl  /a/abba/ahes+my+kind+of+girl_20598417.html   \n",
       "1   ABBA       Andante, Andante       /a/abba/andante+andante_20002708.html   \n",
       "2   ABBA         As Good As New        /a/abba/as+good+as+new_20003033.html   \n",
       "3   ABBA                   Bang                  /a/abba/bang_20598415.html   \n",
       "4   ABBA       Bang-A-Boomerang      /a/abba/bang+a+boomerang_20002668.html   \n",
       "\n",
       "                                                text  \n",
       "0  Look at her face, it's a wonderful face  \\r\\nA...  \n",
       "1  Take it easy with me, please  \\r\\nTouch me gen...  \n",
       "2  I'll never know why I had to go  \\r\\nWhy I had...  \n",
       "3  Making somebody happy is a question of give an...  \n",
       "4  Making somebody happy is a question of give an...  "
      ]
     },
     "execution_count": 3,
     "metadata": {},
     "output_type": "execute_result"
    }
   ],
   "source": [
    "#check the data frame\n",
    "df.head()"
   ]
  },
  {
   "cell_type": "code",
   "execution_count": 4,
   "id": "0c176386",
   "metadata": {},
   "outputs": [
    {
     "data": {
      "text/plain": [
       "(57650, 4)"
      ]
     },
     "execution_count": 4,
     "metadata": {},
     "output_type": "execute_result"
    }
   ],
   "source": [
    "#shape\n",
    "df.shape"
   ]
  },
  {
   "cell_type": "code",
   "execution_count": 5,
   "id": "e3efef82",
   "metadata": {},
   "outputs": [
    {
     "data": {
      "text/plain": [
       "artist    0\n",
       "song      0\n",
       "link      0\n",
       "text      0\n",
       "dtype: int64"
      ]
     },
     "execution_count": 5,
     "metadata": {},
     "output_type": "execute_result"
    }
   ],
   "source": [
    "#check null values\n",
    "df.isnull().sum()"
   ]
  },
  {
   "cell_type": "code",
   "execution_count": 6,
   "id": "657c10ad",
   "metadata": {},
   "outputs": [],
   "source": [
    "#drop the link column\n",
    "df = df.sample(10000).drop('link', axis = 1).reset_index(drop = True)"
   ]
  },
  {
   "cell_type": "code",
   "execution_count": 7,
   "id": "73f10a04",
   "metadata": {},
   "outputs": [
    {
     "data": {
      "text/html": [
       "<div>\n",
       "<style scoped>\n",
       "    .dataframe tbody tr th:only-of-type {\n",
       "        vertical-align: middle;\n",
       "    }\n",
       "\n",
       "    .dataframe tbody tr th {\n",
       "        vertical-align: top;\n",
       "    }\n",
       "\n",
       "    .dataframe thead th {\n",
       "        text-align: right;\n",
       "    }\n",
       "</style>\n",
       "<table border=\"1\" class=\"dataframe\">\n",
       "  <thead>\n",
       "    <tr style=\"text-align: right;\">\n",
       "      <th></th>\n",
       "      <th>artist</th>\n",
       "      <th>song</th>\n",
       "      <th>text</th>\n",
       "    </tr>\n",
       "  </thead>\n",
       "  <tbody>\n",
       "    <tr>\n",
       "      <th>0</th>\n",
       "      <td>Lynyrd Skynyrd</td>\n",
       "      <td>Travelin' Man</td>\n",
       "      <td>I was born a travelin' man, that's all Ill eve...</td>\n",
       "    </tr>\n",
       "    <tr>\n",
       "      <th>1</th>\n",
       "      <td>Waterboys</td>\n",
       "      <td>Meet Me At The Station</td>\n",
       "      <td>Well if I get to heaven before you do  \\r\\nI w...</td>\n",
       "    </tr>\n",
       "    <tr>\n",
       "      <th>2</th>\n",
       "      <td>Out Of Eden</td>\n",
       "      <td>Confused</td>\n",
       "      <td>I've been through so many changes I don't know...</td>\n",
       "    </tr>\n",
       "    <tr>\n",
       "      <th>3</th>\n",
       "      <td>Don Henley</td>\n",
       "      <td>I Can't Stand Still</td>\n",
       "      <td>I know you love me  \\r\\nYou know I love you to...</td>\n",
       "    </tr>\n",
       "    <tr>\n",
       "      <th>4</th>\n",
       "      <td>Ween</td>\n",
       "      <td>Pretty Girl</td>\n",
       "      <td>There's a sweater wearin', coat totin', boot f...</td>\n",
       "    </tr>\n",
       "  </tbody>\n",
       "</table>\n",
       "</div>"
      ],
      "text/plain": [
       "           artist                    song  \\\n",
       "0  Lynyrd Skynyrd           Travelin' Man   \n",
       "1       Waterboys  Meet Me At The Station   \n",
       "2     Out Of Eden                Confused   \n",
       "3      Don Henley     I Can't Stand Still   \n",
       "4            Ween             Pretty Girl   \n",
       "\n",
       "                                                text  \n",
       "0  I was born a travelin' man, that's all Ill eve...  \n",
       "1  Well if I get to heaven before you do  \\r\\nI w...  \n",
       "2  I've been through so many changes I don't know...  \n",
       "3  I know you love me  \\r\\nYou know I love you to...  \n",
       "4  There's a sweater wearin', coat totin', boot f...  "
      ]
     },
     "execution_count": 7,
     "metadata": {},
     "output_type": "execute_result"
    }
   ],
   "source": [
    "#lets view the dataframe\n",
    "df.head()"
   ]
  },
  {
   "cell_type": "markdown",
   "id": "ea723e4e",
   "metadata": {},
   "source": [
    "#### Text cleaning and preprocessing\n"
   ]
  },
  {
   "cell_type": "code",
   "execution_count": 8,
   "id": "2ac8b986",
   "metadata": {},
   "outputs": [],
   "source": [
    "#Text cleaning\n",
    "df['text'] = df['text'].str.lower().replace(r'^\\w\\s','').replace(r'\\n', ' ', regex = True)"
   ]
  },
  {
   "cell_type": "code",
   "execution_count": 9,
   "id": "4c982012",
   "metadata": {},
   "outputs": [
    {
     "data": {
      "text/html": [
       "<div>\n",
       "<style scoped>\n",
       "    .dataframe tbody tr th:only-of-type {\n",
       "        vertical-align: middle;\n",
       "    }\n",
       "\n",
       "    .dataframe tbody tr th {\n",
       "        vertical-align: top;\n",
       "    }\n",
       "\n",
       "    .dataframe thead th {\n",
       "        text-align: right;\n",
       "    }\n",
       "</style>\n",
       "<table border=\"1\" class=\"dataframe\">\n",
       "  <thead>\n",
       "    <tr style=\"text-align: right;\">\n",
       "      <th></th>\n",
       "      <th>artist</th>\n",
       "      <th>song</th>\n",
       "      <th>text</th>\n",
       "    </tr>\n",
       "  </thead>\n",
       "  <tbody>\n",
       "    <tr>\n",
       "      <th>0</th>\n",
       "      <td>Lynyrd Skynyrd</td>\n",
       "      <td>Travelin' Man</td>\n",
       "      <td>i was born a travelin' man, that's all ill eve...</td>\n",
       "    </tr>\n",
       "    <tr>\n",
       "      <th>1</th>\n",
       "      <td>Waterboys</td>\n",
       "      <td>Meet Me At The Station</td>\n",
       "      <td>well if i get to heaven before you do  \\r i wi...</td>\n",
       "    </tr>\n",
       "    <tr>\n",
       "      <th>2</th>\n",
       "      <td>Out Of Eden</td>\n",
       "      <td>Confused</td>\n",
       "      <td>i've been through so many changes i don't know...</td>\n",
       "    </tr>\n",
       "    <tr>\n",
       "      <th>3</th>\n",
       "      <td>Don Henley</td>\n",
       "      <td>I Can't Stand Still</td>\n",
       "      <td>i know you love me  \\r you know i love you too...</td>\n",
       "    </tr>\n",
       "    <tr>\n",
       "      <th>4</th>\n",
       "      <td>Ween</td>\n",
       "      <td>Pretty Girl</td>\n",
       "      <td>there's a sweater wearin', coat totin', boot f...</td>\n",
       "    </tr>\n",
       "    <tr>\n",
       "      <th>...</th>\n",
       "      <td>...</td>\n",
       "      <td>...</td>\n",
       "      <td>...</td>\n",
       "    </tr>\n",
       "    <tr>\n",
       "      <th>9995</th>\n",
       "      <td>Kiss</td>\n",
       "      <td>Silver Spoon</td>\n",
       "      <td>i ain't lookin' like nobody's fool, save it fo...</td>\n",
       "    </tr>\n",
       "    <tr>\n",
       "      <th>9996</th>\n",
       "      <td>Lou Reed</td>\n",
       "      <td>Beginning Of A Great Adventure</td>\n",
       "      <td>it might be fun to have a kid that i could kic...</td>\n",
       "    </tr>\n",
       "    <tr>\n",
       "      <th>9997</th>\n",
       "      <td>Judas Priest</td>\n",
       "      <td>Take On The World</td>\n",
       "      <td>you got to leave your seat, you gotta get up u...</td>\n",
       "    </tr>\n",
       "    <tr>\n",
       "      <th>9998</th>\n",
       "      <td>Lionel Richie</td>\n",
       "      <td>Into You Deep</td>\n",
       "      <td>hey you  \\r where are you going  \\r you're not...</td>\n",
       "    </tr>\n",
       "    <tr>\n",
       "      <th>9999</th>\n",
       "      <td>Tracy Chapman</td>\n",
       "      <td>For A Dream</td>\n",
       "      <td>i picture us together  \\r framed in gold leaf ...</td>\n",
       "    </tr>\n",
       "  </tbody>\n",
       "</table>\n",
       "<p>10000 rows × 3 columns</p>\n",
       "</div>"
      ],
      "text/plain": [
       "              artist                            song  \\\n",
       "0     Lynyrd Skynyrd                   Travelin' Man   \n",
       "1          Waterboys          Meet Me At The Station   \n",
       "2        Out Of Eden                        Confused   \n",
       "3         Don Henley             I Can't Stand Still   \n",
       "4               Ween                     Pretty Girl   \n",
       "...              ...                             ...   \n",
       "9995            Kiss                    Silver Spoon   \n",
       "9996        Lou Reed  Beginning Of A Great Adventure   \n",
       "9997    Judas Priest               Take On The World   \n",
       "9998   Lionel Richie                   Into You Deep   \n",
       "9999   Tracy Chapman                     For A Dream   \n",
       "\n",
       "                                                   text  \n",
       "0     i was born a travelin' man, that's all ill eve...  \n",
       "1     well if i get to heaven before you do  \\r i wi...  \n",
       "2     i've been through so many changes i don't know...  \n",
       "3     i know you love me  \\r you know i love you too...  \n",
       "4     there's a sweater wearin', coat totin', boot f...  \n",
       "...                                                 ...  \n",
       "9995  i ain't lookin' like nobody's fool, save it fo...  \n",
       "9996  it might be fun to have a kid that i could kic...  \n",
       "9997  you got to leave your seat, you gotta get up u...  \n",
       "9998  hey you  \\r where are you going  \\r you're not...  \n",
       "9999  i picture us together  \\r framed in gold leaf ...  \n",
       "\n",
       "[10000 rows x 3 columns]"
      ]
     },
     "execution_count": 9,
     "metadata": {},
     "output_type": "execute_result"
    }
   ],
   "source": [
    "df"
   ]
  },
  {
   "cell_type": "code",
   "execution_count": 27,
   "id": "5ac52b0e",
   "metadata": {},
   "outputs": [],
   "source": [
    "#create a funtion token\n",
    "def token(txt):\n",
    "        token = nltk.word_tokenize(txt)\n",
    "        a = [stemmer.stem(w) for w in token]\n",
    "        return \" \".join(a)"
   ]
  },
  {
   "cell_type": "code",
   "execution_count": 11,
   "id": "cb9dd87f",
   "metadata": {},
   "outputs": [
    {
     "data": {
      "text/plain": [
       "'your are awesom'"
      ]
     },
     "execution_count": 11,
     "metadata": {},
     "output_type": "execute_result"
    }
   ],
   "source": [
    "#checking\n",
    "token(\"your are awesome\")"
   ]
  },
  {
   "cell_type": "code",
   "execution_count": 12,
   "id": "0e8d5fbc",
   "metadata": {},
   "outputs": [
    {
     "data": {
      "text/plain": [
       "0       i wa born a travelin ' man , that 's all ill e...\n",
       "1       well if i get to heaven befor you do i will me...\n",
       "2       i 've been through so mani chang i do n't know...\n",
       "3       i know you love me you know i love you too you...\n",
       "4       there 's a sweater wearin ' , coat totin ' , b...\n",
       "                              ...                        \n",
       "9995    i ai n't lookin ' like nobodi 's fool , save i...\n",
       "9996    it might be fun to have a kid that i could kic...\n",
       "9997    you got to leav your seat , you got ta get up ...\n",
       "9998    hey you where are you go you 're not leav me t...\n",
       "9999    i pictur us togeth frame in gold leaf on the m...\n",
       "Name: text, Length: 10000, dtype: object"
      ]
     },
     "execution_count": 12,
     "metadata": {},
     "output_type": "execute_result"
    }
   ],
   "source": [
    "#applying token function to the text column\n",
    "df[\"text\"].apply(lambda x : token(x))"
   ]
  },
  {
   "cell_type": "code",
   "execution_count": 28,
   "id": "656c4c52",
   "metadata": {},
   "outputs": [],
   "source": [
    "# import packages\n",
    "from sklearn.feature_extraction.text import TfidfVectorizer\n",
    "from sklearn.metrics.pairwise import cosine_similarity"
   ]
  },
  {
   "cell_type": "code",
   "execution_count": 14,
   "id": "7d132393",
   "metadata": {},
   "outputs": [],
   "source": [
    "tfid = TfidfVectorizer(analyzer = 'word', stop_words = 'english')"
   ]
  },
  {
   "cell_type": "code",
   "execution_count": 15,
   "id": "16e61630",
   "metadata": {},
   "outputs": [],
   "source": [
    "matrix = tfid.fit_transform(df['text'])"
   ]
  },
  {
   "cell_type": "code",
   "execution_count": 16,
   "id": "2dc32f09",
   "metadata": {},
   "outputs": [],
   "source": [
    "similar = cosine_similarity(matrix)"
   ]
  },
  {
   "cell_type": "code",
   "execution_count": 20,
   "id": "d11c8c0e",
   "metadata": {},
   "outputs": [
    {
     "data": {
      "text/plain": [
       "array([1.00000000e+00, 5.76125706e-03, 9.74708196e-03, ...,\n",
       "       1.04238936e-03, 4.69293689e-03, 6.07024994e-04])"
      ]
     },
     "execution_count": 20,
     "metadata": {},
     "output_type": "execute_result"
    }
   ],
   "source": [
    "similar[0]"
   ]
  },
  {
   "cell_type": "markdown",
   "id": "0dde241b",
   "metadata": {},
   "source": [
    "### Recommender Function"
   ]
  },
  {
   "cell_type": "code",
   "execution_count": 22,
   "id": "1059bfeb",
   "metadata": {},
   "outputs": [],
   "source": [
    "def recommender(song_name):\n",
    "    \n",
    "    idx = df[df['song'] == song_name].index[0]\n",
    "    distance = sorted(list(enumerate(similar[idx])),reverse = True ,  key = lambda x:x[1])\n",
    "    song = []\n",
    "    for s_id in distance[1:21]:\n",
    "        song.append(df.iloc[s_id[0]].song)\n",
    "    return song"
   ]
  },
  {
   "cell_type": "code",
   "execution_count": 24,
   "id": "eb24a610",
   "metadata": {},
   "outputs": [],
   "source": [
    "pickle.dump(similar, open(\"similarity\",\"wb\"))"
   ]
  },
  {
   "cell_type": "code",
   "execution_count": 25,
   "id": "fb79ae61",
   "metadata": {},
   "outputs": [],
   "source": [
    "pickle.dump(df, open(\"df\", \"wb\"))"
   ]
  },
  {
   "cell_type": "markdown",
   "id": "7a5de784",
   "metadata": {},
   "source": [
    "# Testing the recommendation system with simple GUI"
   ]
  },
  {
   "cell_type": "code",
   "execution_count": null,
   "id": "34bdf6ba",
   "metadata": {},
   "outputs": [],
   "source": [
    "import tkinter as tk\n",
    "from tkinter import ttk\n",
    "import pickle\n",
    "import pandas as pd\n",
    "\n",
    "# Load data and similarity matrix\n",
    "similar = pickle.load(open(\"similarity\", \"rb\"))\n",
    "df = pickle.load(open(\"df\", \"rb\"))\n",
    "\n",
    "class MusicRecommenderApp:\n",
    "    def __init__(self, root):\n",
    "        self.root = root\n",
    "        self.root.title(\"Music Recommender System\")\n",
    "\n",
    "        # Dropdown to select a song\n",
    "        self.song_var = tk.StringVar()\n",
    "        self.song_dropdown = ttk.Combobox(root, textvariable=self.song_var)\n",
    "        self.song_dropdown['values'] = df['song'].tolist()\n",
    "        self.song_dropdown.set(\"Select a Song\")\n",
    "        self.song_dropdown.grid(row=0, column=0, padx=10, pady=10)\n",
    "\n",
    "        # Button to get recommendations\n",
    "        self.recommend_button = tk.Button(root, text=\"Get Recommendations\", command=self.get_recommendations)\n",
    "        self.recommend_button.grid(row=0, column=1, padx=10, pady=10)\n",
    "\n",
    "        # Recommended songs listbox\n",
    "        self.recommended_songs_listbox = tk.Listbox(root, height=10, width=50)\n",
    "        self.recommended_songs_listbox.grid(row=1, column=0, columnspan=2, padx=10, pady=10)\n",
    "\n",
    "        # Display selected song details\n",
    "        self.selected_song_label = tk.Label(root, text=\"Selected Song Details:\")\n",
    "        self.selected_song_label.grid(row=2, column=0, columnspan=2, pady=10)\n",
    "\n",
    "    def get_recommendations(self):\n",
    "        selected_song = self.song_var.get()\n",
    "        if selected_song:\n",
    "            idx = df[df['song'] == selected_song].index[0]\n",
    "            distance = sorted(list(enumerate(similar[idx])), reverse=True, key=lambda x: x[1])\n",
    "            recommendations = [df.iloc[s_id[0]].song for s_id in distance[1:21]]\n",
    "\n",
    "            # Display recommended songs in the listbox\n",
    "            self.recommended_songs_listbox.delete(0, tk.END)\n",
    "            for i, rec_song in enumerate(recommendations, start=1):\n",
    "                self.recommended_songs_listbox.insert(tk.END, f\"{i}. {rec_song}\")\n",
    "\n",
    "            # Display selected song details\n",
    "            selected_song_details = df[df['song'] == selected_song].iloc[0]\n",
    "            details_text = f\"Artist: {selected_song_details['artist']}\\nSong Text: {selected_song_details['text']}\"\n",
    "            self.selected_song_label.config(text=details_text)\n",
    "        else:\n",
    "            self.selected_song_label.config(text=\"Please select a song.\")\n",
    "\n",
    "if __name__ == \"__main__\":\n",
    "    root = tk.Tk()\n",
    "    app = MusicRecommenderApp(root)\n",
    "    root.mainloop()"
   ]
  },
  {
   "cell_type": "code",
   "execution_count": null,
   "id": "15d5d77e",
   "metadata": {},
   "outputs": [],
   "source": []
  }
 ],
 "metadata": {
  "kernelspec": {
   "display_name": "Python 3 (ipykernel)",
   "language": "python",
   "name": "python3"
  },
  "language_info": {
   "codemirror_mode": {
    "name": "ipython",
    "version": 3
   },
   "file_extension": ".py",
   "mimetype": "text/x-python",
   "name": "python",
   "nbconvert_exporter": "python",
   "pygments_lexer": "ipython3",
   "version": "3.10.13"
  }
 },
 "nbformat": 4,
 "nbformat_minor": 5
}
